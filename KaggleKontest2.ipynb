{
  "nbformat": 4,
  "nbformat_minor": 0,
  "metadata": {
    "colab": {
      "provenance": []
    },
    "kernelspec": {
      "name": "python3",
      "display_name": "Python 3"
    },
    "language_info": {
      "name": "python"
    }
  },
  "cells": [
    {
      "cell_type": "code",
      "source": [
        "import pandas as pd\n",
        "from sklearn.ensemble import RandomForestClassifier\n",
        "from sklearn.model_selection import cross_val_score, GridSearchCV\n",
        "from sklearn.metrics import make_scorer, roc_auc_score\n",
        "\n",
        "# Загрузка данных\n",
        "train_features = pd.read_csv('DOTA2_TRAIN_features.csv')\n",
        "train_targets = pd.read_csv('DOTA2_TRAIN_targets.csv')['radiant_win']\n",
        "test_features = pd.read_csv('DOTA2_TEST_features.csv')\n",
        "\n",
        "# Сохранение match_id\n",
        "train_match_ids = train_features['match_id']\n",
        "test_match_ids = test_features['match_id']\n",
        "\n",
        "# Исключение столбца match_id из признаков\n",
        "train_features = train_features.drop('match_id', axis=1, errors='ignore')\n",
        "test_features = test_features.drop('match_id', axis=1, errors='ignore')\n",
        "\n",
        "# Обработка пропущенных значений\n",
        "train_features = train_features.fillna(0)\n",
        "test_features = test_features.fillna(0)\n",
        "\n",
        "# Преобразование категориальных признаков в количественные с помощью One-Hot Encoding\n",
        "train_features = pd.get_dummies(train_features)\n",
        "test_features = pd.get_dummies(test_features)\n",
        "\n",
        "# Выбор модели и настройка гиперпараметров\n",
        "model = RandomForestClassifier()\n",
        "param_grid = {'n_estimators': [50, 100, 200], 'max_depth': [None, 10, 20]}\n",
        "grid_search = GridSearchCV(model, param_grid, cv=5, scoring=make_scorer(roc_auc_score))\n",
        "grid_search.fit(train_features, train_targets)\n",
        "\n",
        "best_model = grid_search.best_estimator_\n",
        "\n",
        "# Кросс-валидация\n",
        "cross_val_auc = cross_val_score(best_model, train_features, train_targets, cv=5, scoring=make_scorer(roc_auc_score))\n",
        "print(\"Cross-validated AUC: {:.4f}\".format(cross_val_auc.mean()))\n",
        "\n",
        "# Предсказание на тестовых данных\n",
        "test_predictions = best_model.predict_proba(test_features)[:, 1]\n",
        "\n",
        "# Создание файла решения\n",
        "submission_df = pd.DataFrame({'match_id': test_match_ids, 'radiant_win': test_predictions})\n",
        "submission_df.to_csv('submission.csv', index=False)\n"
      ],
      "metadata": {
        "colab": {
          "base_uri": "https://localhost:8080/"
        },
        "id": "zFzK0H2hWpdb",
        "outputId": "d8946c27-4d83-4aa8-8b17-0ed3ec2f97f8"
      },
      "execution_count": null,
      "outputs": [
        {
          "output_type": "stream",
          "name": "stdout",
          "text": [
            "Cross-validated AUC: 0.6989\n"
          ]
        }
      ]
    }
  ]
}